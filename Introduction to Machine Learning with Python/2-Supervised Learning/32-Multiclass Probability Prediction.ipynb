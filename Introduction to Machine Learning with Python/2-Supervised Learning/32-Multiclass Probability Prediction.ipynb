{
 "cells": [
  {
   "cell_type": "code",
   "execution_count": 16,
   "metadata": {},
   "outputs": [],
   "source": [
    "from sklearn.datasets import load_iris\n",
    "from sklearn.model_selection import train_test_split\n",
    "from sklearn.ensemble import GradientBoostingClassifier\n",
    "from sklearn.linear_model import LogisticRegression\n",
    "import numpy as np"
   ]
  },
  {
   "cell_type": "code",
   "execution_count": 2,
   "metadata": {},
   "outputs": [],
   "source": [
    "iris = load_iris()"
   ]
  },
  {
   "cell_type": "code",
   "execution_count": 4,
   "metadata": {},
   "outputs": [],
   "source": [
    "X_train, X_test, y_train, y_test = train_test_split(iris.data,iris.target, random_state=42)"
   ]
  },
  {
   "cell_type": "code",
   "execution_count": 6,
   "metadata": {},
   "outputs": [
    {
     "data": {
      "text/plain": [
       "GradientBoostingClassifier(criterion='friedman_mse', init=None,\n",
       "              learning_rate=0.01, loss='deviance', max_depth=3,\n",
       "              max_features=None, max_leaf_nodes=None,\n",
       "              min_impurity_decrease=0.0, min_impurity_split=None,\n",
       "              min_samples_leaf=1, min_samples_split=2,\n",
       "              min_weight_fraction_leaf=0.0, n_estimators=100,\n",
       "              presort='auto', random_state=0, subsample=1.0, verbose=0,\n",
       "              warm_start=False)"
      ]
     },
     "execution_count": 6,
     "metadata": {},
     "output_type": "execute_result"
    }
   ],
   "source": [
    "clf = GradientBoostingClassifier(learning_rate=0.01, random_state=0)\n",
    "clf.fit(X_train, y_train)"
   ]
  },
  {
   "cell_type": "code",
   "execution_count": 7,
   "metadata": {},
   "outputs": [
    {
     "data": {
      "text/plain": [
       "array([[-0.52931069,  1.46560359, -0.50448467],\n",
       "       [ 1.51154215, -0.49561142, -0.50310736],\n",
       "       [-0.52379401, -0.4676268 ,  1.51953786],\n",
       "       [-0.52931069,  1.46560359, -0.50448467],\n",
       "       [-0.53107259,  1.28190451,  0.21510024],\n",
       "       [ 1.51154215, -0.49561142, -0.50310736],\n",
       "       [-0.52931069,  1.46560359, -0.50448467],\n",
       "       [-0.53043817, -0.4676268 ,  1.51953786],\n",
       "       [-0.52931069,  1.46560359, -0.50448467],\n",
       "       [-0.52931069,  1.46560359, -0.50448467],\n",
       "       [-0.53043817, -0.4676268 ,  1.50129926],\n",
       "       [ 1.51154215, -0.49561142, -0.50310736],\n",
       "       [ 1.51154215, -0.49561142, -0.50310736],\n",
       "       [ 1.51154215, -0.49561142, -0.50310736],\n",
       "       [ 1.51154215, -0.49561142, -0.50310736],\n",
       "       [-0.52931069,  1.46560359, -0.50448467],\n",
       "       [-0.52419721, -0.4676268 ,  1.51953786],\n",
       "       [-0.52931069,  1.46560359, -0.50448467],\n",
       "       [-0.52931069,  1.46560359, -0.50448467],\n",
       "       [-0.52419721, -0.4676268 ,  1.51953786],\n",
       "       [ 1.51154215, -0.49561142, -0.50310736],\n",
       "       [-0.53107259, -0.45541112,  1.46576456],\n",
       "       [ 1.51154215, -0.49561142, -0.50310736],\n",
       "       [-0.52419721, -0.4676268 ,  1.51953786],\n",
       "       [-0.52419721, -0.4676268 ,  1.50129926],\n",
       "       [-0.52419721, -0.4676268 ,  1.51953786],\n",
       "       [-0.52379401, -0.4676268 ,  1.51953786],\n",
       "       [-0.52419721, -0.4676268 ,  1.50129926],\n",
       "       [ 1.51154215, -0.49561142, -0.50310736],\n",
       "       [ 1.51154215, -0.49561142, -0.50310736],\n",
       "       [ 1.51154215, -0.49561142, -0.50310736],\n",
       "       [ 1.51154215, -0.49561142, -0.50310736],\n",
       "       [-0.52931069,  1.46560359, -0.50448467],\n",
       "       [ 1.51154215, -0.49561142, -0.50310736],\n",
       "       [ 1.51154215, -0.49561142, -0.50310736],\n",
       "       [-0.5308784 , -0.4676268 ,  1.46576456],\n",
       "       [-0.52931069,  1.46560359, -0.50448467],\n",
       "       [ 1.51154215, -0.49561142, -0.50310736]])"
      ]
     },
     "execution_count": 7,
     "metadata": {},
     "output_type": "execute_result"
    }
   ],
   "source": [
    "clf.decision_function(X_test)"
   ]
  },
  {
   "cell_type": "code",
   "execution_count": 10,
   "metadata": {},
   "outputs": [
    {
     "data": {
      "text/plain": [
       "array([1, 0, 2, 1, 1, 0, 1, 2, 1, 1, 2, 0, 0, 0, 0, 1, 2, 1, 1, 2, 0, 2,\n",
       "       0, 2, 2, 2, 2, 2, 0, 0, 0, 0, 1, 0, 0, 2, 1, 0], dtype=int64)"
      ]
     },
     "execution_count": 10,
     "metadata": {},
     "output_type": "execute_result"
    }
   ],
   "source": [
    "np.argmax(clf.decision_function(X_test), axis=1)"
   ]
  },
  {
   "cell_type": "code",
   "execution_count": 11,
   "metadata": {},
   "outputs": [
    {
     "data": {
      "text/plain": [
       "array([1, 0, 2, 1, 1, 0, 1, 2, 1, 1, 2, 0, 0, 0, 0, 1, 2, 1, 1, 2, 0, 2,\n",
       "       0, 2, 2, 2, 2, 2, 0, 0, 0, 0, 1, 0, 0, 2, 1, 0])"
      ]
     },
     "execution_count": 11,
     "metadata": {},
     "output_type": "execute_result"
    }
   ],
   "source": [
    "clf.predict(X_test)"
   ]
  },
  {
   "cell_type": "code",
   "execution_count": 12,
   "metadata": {},
   "outputs": [
    {
     "data": {
      "text/plain": [
       "array([[0.10664722, 0.7840248 , 0.10932798],\n",
       "       [0.78880668, 0.10599243, 0.10520089],\n",
       "       [0.10231173, 0.10822274, 0.78946553],\n",
       "       [0.10664722, 0.7840248 , 0.10932798],\n",
       "       [0.10825347, 0.66344934, 0.22829719],\n",
       "       [0.78880668, 0.10599243, 0.10520089],\n",
       "       [0.10664722, 0.7840248 , 0.10932798],\n",
       "       [0.10170311, 0.10829611, 0.79000078],\n",
       "       [0.10664722, 0.7840248 , 0.10932798],\n",
       "       [0.10664722, 0.7840248 , 0.10932798],\n",
       "       [0.10317625, 0.10986475, 0.786959  ],\n",
       "       [0.78880668, 0.10599243, 0.10520089],\n",
       "       [0.78880668, 0.10599243, 0.10520089],\n",
       "       [0.78880668, 0.10599243, 0.10520089],\n",
       "       [0.78880668, 0.10599243, 0.10520089],\n",
       "       [0.10664722, 0.7840248 , 0.10932798],\n",
       "       [0.1022747 , 0.1082272 , 0.78949809],\n",
       "       [0.10664722, 0.7840248 , 0.10932798],\n",
       "       [0.10664722, 0.7840248 , 0.10932798],\n",
       "       [0.1022747 , 0.1082272 , 0.78949809],\n",
       "       [0.78880668, 0.10599243, 0.10520089],\n",
       "       [0.10588375, 0.11420593, 0.77991032],\n",
       "       [0.78880668, 0.10599243, 0.10520089],\n",
       "       [0.1022747 , 0.1082272 , 0.78949809],\n",
       "       [0.10375517, 0.10979383, 0.786451  ],\n",
       "       [0.1022747 , 0.1082272 , 0.78949809],\n",
       "       [0.10231173, 0.10822274, 0.78946553],\n",
       "       [0.10375517, 0.10979383, 0.786451  ],\n",
       "       [0.78880668, 0.10599243, 0.10520089],\n",
       "       [0.78880668, 0.10599243, 0.10520089],\n",
       "       [0.78880668, 0.10599243, 0.10520089],\n",
       "       [0.78880668, 0.10599243, 0.10520089],\n",
       "       [0.10664722, 0.7840248 , 0.10932798],\n",
       "       [0.78880668, 0.10599243, 0.10520089],\n",
       "       [0.78880668, 0.10599243, 0.10520089],\n",
       "       [0.10604918, 0.11297365, 0.78097717],\n",
       "       [0.10664722, 0.7840248 , 0.10932798],\n",
       "       [0.78880668, 0.10599243, 0.10520089]])"
      ]
     },
     "execution_count": 12,
     "metadata": {},
     "output_type": "execute_result"
    }
   ],
   "source": [
    "clf.predict_proba(X_test)"
   ]
  },
  {
   "cell_type": "code",
   "execution_count": 13,
   "metadata": {},
   "outputs": [
    {
     "data": {
      "text/plain": [
       "array([1., 1., 1., 1., 1., 1., 1., 1., 1., 1., 1., 1., 1., 1., 1., 1., 1.,\n",
       "       1., 1., 1., 1., 1., 1., 1., 1., 1., 1., 1., 1., 1., 1., 1., 1., 1.,\n",
       "       1., 1., 1., 1.])"
      ]
     },
     "execution_count": 13,
     "metadata": {},
     "output_type": "execute_result"
    }
   ],
   "source": [
    "clf.predict_proba(X_test).sum(axis=1)"
   ]
  },
  {
   "cell_type": "code",
   "execution_count": 14,
   "metadata": {},
   "outputs": [
    {
     "data": {
      "text/plain": [
       "array([1, 0, 2, 1, 1, 0, 1, 2, 1, 1, 2, 0, 0, 0, 0, 1, 2, 1, 1, 2, 0, 2,\n",
       "       0, 2, 2, 2, 2, 2, 0, 0, 0, 0, 1, 0, 0, 2, 1, 0], dtype=int64)"
      ]
     },
     "execution_count": 14,
     "metadata": {},
     "output_type": "execute_result"
    }
   ],
   "source": [
    "np.argmax(clf.predict_proba(X_test), axis=1)"
   ]
  },
  {
   "cell_type": "code",
   "execution_count": 15,
   "metadata": {},
   "outputs": [
    {
     "data": {
      "text/plain": [
       "array([1, 0, 2, 1, 1, 0, 1, 2, 1, 1, 2, 0, 0, 0, 0, 1, 2, 1, 1, 2, 0, 2,\n",
       "       0, 2, 2, 2, 2, 2, 0, 0, 0, 0, 1, 0, 0, 2, 1, 0])"
      ]
     },
     "execution_count": 15,
     "metadata": {},
     "output_type": "execute_result"
    }
   ],
   "source": [
    "clf.predict(X_test)"
   ]
  },
  {
   "cell_type": "code",
   "execution_count": 18,
   "metadata": {},
   "outputs": [
    {
     "data": {
      "text/plain": [
       "LogisticRegression(C=1.0, class_weight=None, dual=False, fit_intercept=True,\n",
       "          intercept_scaling=1, max_iter=100, multi_class='ovr', n_jobs=1,\n",
       "          penalty='l2', random_state=None, solver='liblinear', tol=0.0001,\n",
       "          verbose=0, warm_start=False)"
      ]
     },
     "execution_count": 18,
     "metadata": {},
     "output_type": "execute_result"
    }
   ],
   "source": [
    "logreg = LogisticRegression()\n",
    "named_target = iris.target_names[y_train]\n",
    "logreg.fit(X_train, named_target)"
   ]
  },
  {
   "cell_type": "code",
   "execution_count": 19,
   "metadata": {},
   "outputs": [
    {
     "data": {
      "text/plain": [
       "array(['setosa', 'versicolor', 'virginica'], dtype='<U10')"
      ]
     },
     "execution_count": 19,
     "metadata": {},
     "output_type": "execute_result"
    }
   ],
   "source": [
    "logreg.classes_"
   ]
  },
  {
   "cell_type": "code",
   "execution_count": 20,
   "metadata": {},
   "outputs": [
    {
     "data": {
      "text/plain": [
       "array(['versicolor', 'setosa', 'virginica', 'versicolor', 'versicolor',\n",
       "       'setosa', 'versicolor', 'virginica', 'versicolor', 'versicolor',\n",
       "       'virginica', 'setosa', 'setosa', 'setosa', 'setosa', 'versicolor',\n",
       "       'virginica', 'versicolor', 'versicolor', 'virginica', 'setosa',\n",
       "       'virginica', 'setosa', 'virginica', 'virginica', 'virginica',\n",
       "       'virginica', 'virginica', 'setosa', 'setosa', 'setosa', 'setosa',\n",
       "       'versicolor', 'setosa', 'setosa', 'virginica', 'versicolor',\n",
       "       'setosa'], dtype='<U10')"
      ]
     },
     "execution_count": 20,
     "metadata": {},
     "output_type": "execute_result"
    }
   ],
   "source": [
    "logreg.predict(X_test)"
   ]
  },
  {
   "cell_type": "code",
   "execution_count": 23,
   "metadata": {},
   "outputs": [
    {
     "data": {
      "text/plain": [
       "array([1, 0, 2, 1, 1, 0, 1, 2, 1, 1, 2, 0, 0, 0, 0, 1, 2, 1, 1, 2, 0, 2,\n",
       "       0, 2, 2, 2, 2, 2, 0, 0, 0, 0, 1, 0, 0, 2, 1, 0], dtype=int64)"
      ]
     },
     "execution_count": 23,
     "metadata": {},
     "output_type": "execute_result"
    }
   ],
   "source": [
    "arg_max = np.argmax(logreg.decision_function(X_test), axis=1)\n",
    "arg_max"
   ]
  },
  {
   "cell_type": "code",
   "execution_count": 24,
   "metadata": {},
   "outputs": [
    {
     "data": {
      "text/plain": [
       "array(['versicolor', 'setosa', 'virginica', 'versicolor', 'versicolor',\n",
       "       'setosa', 'versicolor', 'virginica', 'versicolor', 'versicolor',\n",
       "       'virginica', 'setosa', 'setosa', 'setosa', 'setosa', 'versicolor',\n",
       "       'virginica', 'versicolor', 'versicolor', 'virginica', 'setosa',\n",
       "       'virginica', 'setosa', 'virginica', 'virginica', 'virginica',\n",
       "       'virginica', 'virginica', 'setosa', 'setosa', 'setosa', 'setosa',\n",
       "       'versicolor', 'setosa', 'setosa', 'virginica', 'versicolor',\n",
       "       'setosa'], dtype='<U10')"
      ]
     },
     "execution_count": 24,
     "metadata": {},
     "output_type": "execute_result"
    }
   ],
   "source": [
    "logreg.classes_[arg_max]"
   ]
  },
  {
   "cell_type": "code",
   "execution_count": null,
   "metadata": {},
   "outputs": [],
   "source": []
  }
 ],
 "metadata": {
  "kernelspec": {
   "display_name": "Python 3",
   "language": "python",
   "name": "python3"
  },
  "language_info": {
   "codemirror_mode": {
    "name": "ipython",
    "version": 3
   },
   "file_extension": ".py",
   "mimetype": "text/x-python",
   "name": "python",
   "nbconvert_exporter": "python",
   "pygments_lexer": "ipython3",
   "version": "3.6.5"
  }
 },
 "nbformat": 4,
 "nbformat_minor": 2
}
